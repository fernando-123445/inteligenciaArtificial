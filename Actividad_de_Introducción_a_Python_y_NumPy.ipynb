{
  "nbformat": 4,
  "nbformat_minor": 0,
  "metadata": {
    "colab": {
      "provenance": [],
      "include_colab_link": true
    },
    "kernelspec": {
      "name": "python3",
      "display_name": "Python 3"
    },
    "language_info": {
      "name": "python"
    }
  },
  "cells": [
    {
      "cell_type": "markdown",
      "metadata": {
        "id": "view-in-github",
        "colab_type": "text"
      },
      "source": [
        "<a href=\"https://colab.research.google.com/github/fernando-123445/inteligenciaArtificial/blob/main/Actividad_de_Introducci%C3%B3n_a_Python_y_NumPy.ipynb\" target=\"_parent\"><img src=\"https://colab.research.google.com/assets/colab-badge.svg\" alt=\"Open In Colab\"/></a>"
      ]
    },
    {
      "cell_type": "markdown",
      "source": [
        "# NOMBRE: CARLOS FERNANDO ANCHUNDIA PARRAGA\n",
        "#Fecha: 11/07/2024"
      ],
      "metadata": {
        "id": "TwnpuLMeVl_F"
      }
    },
    {
      "cell_type": "code",
      "execution_count": 1,
      "metadata": {
        "id": "mMjyh_Lh6Y_j",
        "colab": {
          "base_uri": "https://localhost:8080/"
        },
        "outputId": "eeccebcc-5b66-41e6-e9c6-88683ad56d59"
      },
      "outputs": [
        {
          "output_type": "stream",
          "name": "stdout",
          "text": [
            "1.25.2\n"
          ]
        }
      ],
      "source": [
        "# Importa numpy como np y muestra la versión\n",
        "\n",
        "import numpy as np\n",
        "print(np.__version__)"
      ]
    },
    {
      "cell_type": "code",
      "source": [
        "# Crear un arreglo 1D de números del 0 al 9\n",
        "\n",
        "array = np.arange(10)\n",
        "print(array)"
      ],
      "metadata": {
        "colab": {
          "base_uri": "https://localhost:8080/"
        },
        "id": "2x7qvA8v9R57",
        "outputId": "acf9f338-103c-4c90-e0fe-43c00a4030b4"
      },
      "execution_count": 2,
      "outputs": [
        {
          "output_type": "stream",
          "name": "stdout",
          "text": [
            "[0 1 2 3 4 5 6 7 8 9]\n"
          ]
        }
      ]
    },
    {
      "cell_type": "code",
      "source": [
        "# Crear un vector aleatorio de tamaño 10 y reemplazar el valor máximo por 0\n",
        "vector = np.random.rand(10)\n",
        "print(vector)\n",
        "\n",
        "print(\"\\nValor maximo cambiado a cero\")\n",
        "maximo = np.argmax(vector)\n",
        "vector[maximo] = 0\n",
        "print(vector)"
      ],
      "metadata": {
        "colab": {
          "base_uri": "https://localhost:8080/"
        },
        "id": "GGo5spEmA9Di",
        "outputId": "1e5a3882-6634-42bf-c6a9-56c4ad5025ab"
      },
      "execution_count": 3,
      "outputs": [
        {
          "output_type": "stream",
          "name": "stdout",
          "text": [
            "[0.97359795 0.97272183 0.96075969 0.42719847 0.03185746 0.7184514\n",
            " 0.4315187  0.63073868 0.26077209 0.96355278]\n",
            "\n",
            "Valor maximo cambiado a cero\n",
            "[0.         0.97272183 0.96075969 0.42719847 0.03185746 0.7184514\n",
            " 0.4315187  0.63073868 0.26077209 0.96355278]\n"
          ]
        }
      ]
    },
    {
      "cell_type": "code",
      "source": [
        "# Imprimir el número 8 del siguiente arreglo:\n",
        "arr = np.array([[1,2,3,4,5], [6,7,8,9,10]])\n",
        "print(arr[1, 2])"
      ],
      "metadata": {
        "colab": {
          "base_uri": "https://localhost:8080/"
        },
        "id": "_-hrhLMQESoX",
        "outputId": "54fe18cb-fc19-4834-d34e-9e0c1bc94812"
      },
      "execution_count": 4,
      "outputs": [
        {
          "output_type": "stream",
          "name": "stdout",
          "text": [
            "8\n"
          ]
        }
      ]
    },
    {
      "cell_type": "code",
      "source": [
        "# Imprimir los números [3, 4, 5] del siguiente arreglo:\n",
        "arr = np.array([1,2,3,4,5,6,7])\n",
        "print(arr[2:5])"
      ],
      "metadata": {
        "colab": {
          "base_uri": "https://localhost:8080/"
        },
        "id": "QL1T_cTtGJVx",
        "outputId": "e55a0d59-680a-4f9a-bdad-1d7bee9a4d2d"
      },
      "execution_count": 5,
      "outputs": [
        {
          "output_type": "stream",
          "name": "stdout",
          "text": [
            "[3 4 5]\n"
          ]
        }
      ]
    },
    {
      "cell_type": "code",
      "source": [
        "# Imprimir los últimos 4 números del siguiente arreglo:\n",
        "arr = np.array([1,2,3,4,5,6,7])\n",
        "print(arr[-4:])"
      ],
      "metadata": {
        "colab": {
          "base_uri": "https://localhost:8080/"
        },
        "id": "p083luIfGUoL",
        "outputId": "1aef3f13-23d4-46ff-f320-bae14f194b00"
      },
      "execution_count": 6,
      "outputs": [
        {
          "output_type": "stream",
          "name": "stdout",
          "text": [
            "[4 5 6 7]\n"
          ]
        }
      ]
    },
    {
      "cell_type": "code",
      "source": [
        "# Crear un arreglo numpy de 3×3 con todos valores True\n",
        "array = np.full((3, 3), True, dtype=bool)\n",
        "print(array)"
      ],
      "metadata": {
        "colab": {
          "base_uri": "https://localhost:8080/"
        },
        "id": "2STStKDJHM4c",
        "outputId": "3d13c46b-1709-4177-8af0-7cd2459ed2f5"
      },
      "execution_count": 7,
      "outputs": [
        {
          "output_type": "stream",
          "name": "stdout",
          "text": [
            "[[ True  True  True]\n",
            " [ True  True  True]\n",
            " [ True  True  True]]\n"
          ]
        }
      ]
    },
    {
      "cell_type": "code",
      "source": [
        "# Extraer todos los números impares de arr\n",
        "odd_numbers = arr[arr % 2 != 0]\n",
        "print(odd_numbers)"
      ],
      "metadata": {
        "colab": {
          "base_uri": "https://localhost:8080/"
        },
        "id": "KtaJ1qj9III9",
        "outputId": "0f20b299-4fb2-457e-d810-aa1f618add9c"
      },
      "execution_count": 8,
      "outputs": [
        {
          "output_type": "stream",
          "name": "stdout",
          "text": [
            "[1 3 5 7]\n"
          ]
        }
      ]
    },
    {
      "cell_type": "code",
      "source": [
        "# Crear un vector con valores que van de 10 a 49 (★☆☆)\n",
        "vector = np.arange(10, 50)\n",
        "print(vector)"
      ],
      "metadata": {
        "colab": {
          "base_uri": "https://localhost:8080/"
        },
        "id": "y3gJq5qaImnk",
        "outputId": "8720c7a9-a4a2-4128-8268-69e5ea1b5f68"
      },
      "execution_count": 9,
      "outputs": [
        {
          "output_type": "stream",
          "name": "stdout",
          "text": [
            "[10 11 12 13 14 15 16 17 18 19 20 21 22 23 24 25 26 27 28 29 30 31 32 33\n",
            " 34 35 36 37 38 39 40 41 42 43 44 45 46 47 48 49]\n"
          ]
        }
      ]
    },
    {
      "cell_type": "code",
      "source": [
        "# Revertir un vector (el primer elemento se convierte en el último)\n",
        "vector = np.array([1, 2, 3, 4, 5])\n",
        "vector_invertido = vector[::-1]\n",
        "print(vector_invertido)"
      ],
      "metadata": {
        "colab": {
          "base_uri": "https://localhost:8080/"
        },
        "id": "bRuhrUchI4mR",
        "outputId": "b23b4b64-3d44-4294-c013-fc751e0e5efa"
      },
      "execution_count": 10,
      "outputs": [
        {
          "output_type": "stream",
          "name": "stdout",
          "text": [
            "[5 4 3 2 1]\n"
          ]
        }
      ]
    },
    {
      "cell_type": "code",
      "source": [
        "# Crear una matriz 10x10 con valores enteros aleatorios y encontrar el valor mínimo y máximo\n",
        "matriz = np.random.randint(0, 51, size=(10, 10))\n",
        "\n",
        "valor_minimo = np.min(matriz)\n",
        "valor_maximo = np.max(matriz)\n",
        "\n",
        "print(\"Matriz:\")\n",
        "print(matriz)\n",
        "print(\"\\nValor mínimo:\", valor_minimo)\n",
        "print(\"Valor máximo:\", valor_maximo)"
      ],
      "metadata": {
        "colab": {
          "base_uri": "https://localhost:8080/"
        },
        "id": "OJiPn3l7Jvk1",
        "outputId": "3744e0cc-e388-4cea-d399-2a41b1696c43"
      },
      "execution_count": 11,
      "outputs": [
        {
          "output_type": "stream",
          "name": "stdout",
          "text": [
            "Matriz:\n",
            "[[ 3 22 11 45 45 21 50 41 16  8]\n",
            " [14 44  2  2 29 19 31 33 47 34]\n",
            " [44  2  5 12 44 25 35 24 22 36]\n",
            " [11 18 16  1 34 43 11 39  1 39]\n",
            " [ 4 38 36  5 24  0 24 40 11  8]\n",
            " [ 5 14  4 18 14 35 22 47 15 25]\n",
            " [23 26 10 37 23 10  2 41 11 46]\n",
            " [41 20 22  7 44 35  0 31 10 44]\n",
            " [14 44 41  0 25 45  4 39 21 25]\n",
            " [42  5 24 21 13  1 24  6 45 42]]\n",
            "\n",
            "Valor mínimo: 0\n",
            "Valor máximo: 50\n"
          ]
        }
      ]
    },
    {
      "cell_type": "code",
      "source": [
        "# Crear una matriz 3x3x3 con valores aleatorios\n",
        "array_3d = np.random.random((3, 3, 3))\n",
        "print(array_3d)"
      ],
      "metadata": {
        "colab": {
          "base_uri": "https://localhost:8080/"
        },
        "id": "awgODRX5KtkF",
        "outputId": "46d4057e-de09-4a75-b04d-238edb4a252f"
      },
      "execution_count": 12,
      "outputs": [
        {
          "output_type": "stream",
          "name": "stdout",
          "text": [
            "[[[0.14970208 0.36988907 0.37718975]\n",
            "  [0.38944194 0.66142529 0.03092109]\n",
            "  [0.97705056 0.07594679 0.74739426]]\n",
            "\n",
            " [[0.54751765 0.34665912 0.50419294]\n",
            "  [0.24027251 0.79115537 0.90325504]\n",
            "  [0.04317413 0.94926642 0.48452216]]\n",
            "\n",
            " [[0.06304042 0.20998299 0.31070922]\n",
            "  [0.13367349 0.73341579 0.69824794]\n",
            "  [0.8101582  0.40306843 0.62242492]]]\n"
          ]
        }
      ]
    },
    {
      "cell_type": "code",
      "source": [
        "# Reemplazar todos los números impares en arr con -1\n",
        "arr[arr % 2 != 0] = -1\n",
        "print(arr)"
      ],
      "metadata": {
        "colab": {
          "base_uri": "https://localhost:8080/"
        },
        "id": "RjCixGgoLDtI",
        "outputId": "e07874f4-7da9-4667-ccce-f461fadea079"
      },
      "execution_count": 13,
      "outputs": [
        {
          "output_type": "stream",
          "name": "stdout",
          "text": [
            "[-1  2 -1  4 -1  6 -1]\n"
          ]
        }
      ]
    },
    {
      "cell_type": "code",
      "source": [
        "# Crear un arreglo de tipo float\n",
        "arr_float = np.array([1.5, 2.3, 3.1, 4.7, 5.5], dtype=float)\n",
        "\n",
        "print(arr_float)\n",
        "print(arr_float.dtype)"
      ],
      "metadata": {
        "colab": {
          "base_uri": "https://localhost:8080/"
        },
        "id": "R_yVz6rALaKG",
        "outputId": "f635030b-e59b-4c0d-8dd2-d9a4e88df786"
      },
      "execution_count": 14,
      "outputs": [
        {
          "output_type": "stream",
          "name": "stdout",
          "text": [
            "[1.5 2.3 3.1 4.7 5.5]\n",
            "float64\n"
          ]
        }
      ]
    },
    {
      "cell_type": "code",
      "source": [
        "# Convertir un arreglo 1D a un arreglo 2D con 2 filas\n",
        "arr_1d = np.array([1, 2, 3, 4, 5, 6])\n",
        "\n",
        "arr_2d = arr_1d.reshape(2, -1)\n",
        "\n",
        "print(\"Array 1D:\")\n",
        "print(arr_1d)\n",
        "print(\"\\nArray 2D con 2 filas:\")\n",
        "print(arr_2d)"
      ],
      "metadata": {
        "colab": {
          "base_uri": "https://localhost:8080/"
        },
        "id": "sPtiQnVDMVZL",
        "outputId": "5f787479-7418-4336-d20a-3c1d71bcc013"
      },
      "execution_count": 15,
      "outputs": [
        {
          "output_type": "stream",
          "name": "stdout",
          "text": [
            "Array 1D:\n",
            "[1 2 3 4 5 6]\n",
            "\n",
            "Array 2D con 2 filas:\n",
            "[[1 2 3]\n",
            " [4 5 6]]\n"
          ]
        }
      ]
    },
    {
      "cell_type": "code",
      "source": [
        "# Cómo encontrar valores comunes entre dos arreglos?\n",
        "Z1 = np.random.randint(0,10,10)\n",
        "Z2 = np.random.randint(0,10,10)\n",
        "\n",
        "valores_comunes = np.intersect1d(Z1, Z2)\n",
        "\n",
        "print(\"Z1:\", Z1)\n",
        "print(\"Z2:\", Z2)\n",
        "print(\"Valores comunes:\", valores_comunes)"
      ],
      "metadata": {
        "colab": {
          "base_uri": "https://localhost:8080/"
        },
        "id": "5YiE21L_M2Y2",
        "outputId": "a8df06fc-a140-42e8-b0f1-9bb61750f6b9"
      },
      "execution_count": 16,
      "outputs": [
        {
          "output_type": "stream",
          "name": "stdout",
          "text": [
            "Z1: [2 9 5 3 0 1 3 1 1 6]\n",
            "Z2: [4 8 0 3 6 6 4 1 3 9]\n",
            "Valores comunes: [0 1 3 6 9]\n"
          ]
        }
      ]
    },
    {
      "cell_type": "code",
      "source": [
        "# Considerar dos arreglos aleatorios A y B, verificar si son iguales\n",
        "\n",
        "A = np.random.randint(0,2,5)\n",
        "B = np.random.randint(0,2,5)\n",
        "\n",
        "comparacion = np.array_equal(A, B)\n",
        "\n",
        "print(\"A:\", A)\n",
        "print(\"B:\", B)\n",
        "print(\"\\n¿Son iguales?:\", comparacion)"
      ],
      "metadata": {
        "colab": {
          "base_uri": "https://localhost:8080/"
        },
        "id": "m6VQvZsENTaE",
        "outputId": "a1696609-1fdc-4f61-99da-6c2c50691d4a"
      },
      "execution_count": 17,
      "outputs": [
        {
          "output_type": "stream",
          "name": "stdout",
          "text": [
            "A: [0 1 0 0 0]\n",
            "B: [1 1 0 0 0]\n",
            "\n",
            "¿Son iguales?: False\n"
          ]
        }
      ]
    },
    {
      "cell_type": "code",
      "source": [
        "# Apilar los arreglos a y b verticalmente\n",
        "vertical_A = np.vstack((A))\n",
        "vertical_B = np.vstack((B))\n",
        "\n",
        "apilado_v = np.array([[vertical_A],[vertical_B]])\n",
        "print(apilado_v)"
      ],
      "metadata": {
        "colab": {
          "base_uri": "https://localhost:8080/"
        },
        "id": "yB_QwtDCO2hZ",
        "outputId": "5266c938-d15c-403d-e188-f196d36fcb09"
      },
      "execution_count": 18,
      "outputs": [
        {
          "output_type": "stream",
          "name": "stdout",
          "text": [
            "[[[[0]\n",
            "   [1]\n",
            "   [0]\n",
            "   [0]\n",
            "   [0]]]\n",
            "\n",
            "\n",
            " [[[1]\n",
            "   [1]\n",
            "   [0]\n",
            "   [0]\n",
            "   [0]]]]\n"
          ]
        }
      ]
    },
    {
      "cell_type": "code",
      "source": [
        "# Apilar los arreglos a y b horizontalmente\n",
        "horizontal_A = np.hstack((A))\n",
        "horizontal_B = np.hstack((B))\n",
        "\n",
        "apilado_h = np.array([[horizontal_A],[horizontal_B]])\n",
        "print(apilado_h)"
      ],
      "metadata": {
        "colab": {
          "base_uri": "https://localhost:8080/"
        },
        "id": "bc8GIjaqSies",
        "outputId": "fb1d7593-a0fd-4db0-da66-f2ec1c4e298f"
      },
      "execution_count": 19,
      "outputs": [
        {
          "output_type": "stream",
          "name": "stdout",
          "text": [
            "[[[0 1 0 0 0]]\n",
            "\n",
            " [[1 1 0 0 0]]]\n"
          ]
        }
      ]
    },
    {
      "cell_type": "code",
      "source": [
        "# Obtener todos los elementos entre 5 y 10 del arreglo tmp\n",
        "tmp = np.arange(15)\n",
        "resultado = tmp[(tmp >= 5) & (tmp <= 10)]\n",
        "\n",
        "print(tmp)\n",
        "print(\"\\nElementos entre 5 y 10:\", resultado)"
      ],
      "metadata": {
        "colab": {
          "base_uri": "https://localhost:8080/"
        },
        "id": "baOSSBWSTR0v",
        "outputId": "ee264339-e6e1-4448-cfe6-acaa08617897"
      },
      "execution_count": 20,
      "outputs": [
        {
          "output_type": "stream",
          "name": "stdout",
          "text": [
            "[ 0  1  2  3  4  5  6  7  8  9 10 11 12 13 14]\n",
            "\n",
            "Elementos entre 5 y 10: [ 5  6  7  8  9 10]\n"
          ]
        }
      ]
    },
    {
      "cell_type": "code",
      "source": [
        "# Cómo hacer una función en Python que maneje escalares para trabajar en arreglos de NumPy?\n",
        "# Pista\n",
        "# Resultado deseado:\n",
        "# a = np.array([5, 7, 9, 8, 6, 4, 5])\n",
        "# b = np.array([6, 3, 4, 8, 9, 7, 1])\n",
        "# pair_max(a, b)\n",
        "# #> array([ 6.,  7.,  9.,  8.,  9.,  7.,  5.])\n",
        "\n",
        "def maxx(x, y):\n",
        "    \"\"\"Get the maximum of two items\"\"\"\n",
        "    if x >= y:\n",
        "        return x\n",
        "    else:\n",
        "        return y\n",
        "\n",
        "# Vectorizar la función maxx\n",
        "pair_max = np.vectorize(maxx)\n",
        "\n",
        "a = np.array([5, 7, 9, 8, 6, 4, 5])\n",
        "b = np.array([6, 3, 4, 8, 9, 7, 1])\n",
        "\n",
        "resultado = pair_max(a, b)\n",
        "\n",
        "print(\"Array a:\", a)\n",
        "print(\"Array b:\", b)\n",
        "print(\"\\nResultado:\", resultado)"
      ],
      "metadata": {
        "colab": {
          "base_uri": "https://localhost:8080/"
        },
        "id": "YJsj-Hc9UH0f",
        "outputId": "2aabbe49-79eb-4a70-91ca-a2f3de317e37"
      },
      "execution_count": 21,
      "outputs": [
        {
          "output_type": "stream",
          "name": "stdout",
          "text": [
            "Array a: [5 7 9 8 6 4 5]\n",
            "Array b: [6 3 4 8 9 7 1]\n",
            "\n",
            "Resultado: [6 7 9 8 9 7 5]\n"
          ]
        }
      ]
    },
    {
      "cell_type": "code",
      "source": [
        "# Intercambiar las columnas 1 y 2 en el arreglo arr.\n",
        "# Pista\n",
        "# Resultado deseado:\n",
        "# [[0 2 1]\n",
        "#  [3 5 4]\n",
        "#  [6 8 7]]\n",
        "\n",
        "arr = np.arange(9).reshape(3,3)\n",
        "print(arr)\n",
        "\n",
        "# Intercambiar columnas 1 y 2\n",
        "arr[:, [1, 2]] = arr[:, [2, 1]]\n",
        "\n",
        "print(\"\\nColumna 1 y 2 intercambiadas:\")\n",
        "print(arr)"
      ],
      "metadata": {
        "colab": {
          "base_uri": "https://localhost:8080/"
        },
        "id": "gcZ0Bvn0VeqO",
        "outputId": "89dcd11b-0ad3-44d8-916a-43f049c8c42b"
      },
      "execution_count": 22,
      "outputs": [
        {
          "output_type": "stream",
          "name": "stdout",
          "text": [
            "[[0 1 2]\n",
            " [3 4 5]\n",
            " [6 7 8]]\n",
            "\n",
            "Columna 1 y 2 intercambiadas:\n",
            "[[0 2 1]\n",
            " [3 5 4]\n",
            " [6 8 7]]\n"
          ]
        }
      ]
    },
    {
      "cell_type": "code",
      "source": [
        "# Crear un arreglo 2D de forma 5x3 que contenga números decimales aleatorios entre 5 y 10.\n",
        "# Pista\n",
        "# El resultado deseado debería ser como el siguiente:\n",
        "#  [[ 8.50061025  9.10531502  6.85867783]\n",
        "#   [ 9.76262069  9.87717411  7.13466701]\n",
        "#   [ 7.48966403  8.33409158  6.16808631]\n",
        "#   [ 7.75010551  9.94535696  5.27373226]\n",
        "#   [ 8.0850361   5.56165518  7.31244004]]\n",
        "\n",
        "\n",
        "array_2d = np.random.uniform(5, 10, size=(5, 3))\n",
        "\n",
        "print(array_2d)"
      ],
      "metadata": {
        "colab": {
          "base_uri": "https://localhost:8080/"
        },
        "id": "5ZdUSMUEWBeg",
        "outputId": "f5a2a8d4-2750-4c73-dbeb-034ca3791a94"
      },
      "execution_count": 23,
      "outputs": [
        {
          "output_type": "stream",
          "name": "stdout",
          "text": [
            "[[6.22416149 7.74446064 7.08192921]\n",
            " [9.59245852 7.73383255 5.92589294]\n",
            " [8.10443749 5.84597267 9.35538842]\n",
            " [9.49855024 6.73183794 9.37496922]\n",
            " [8.5037309  6.95198615 9.68206223]]\n"
          ]
        }
      ]
    }
  ]
}