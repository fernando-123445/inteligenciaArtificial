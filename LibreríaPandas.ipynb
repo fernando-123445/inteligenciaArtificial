{
  "nbformat": 4,
  "nbformat_minor": 0,
  "metadata": {
    "colab": {
      "provenance": [],
      "authorship_tag": "ABX9TyO4+B68W2CfJgsPKL3mNi5v",
      "include_colab_link": true
    },
    "kernelspec": {
      "name": "python3",
      "display_name": "Python 3"
    },
    "language_info": {
      "name": "python"
    }
  },
  "cells": [
    {
      "cell_type": "markdown",
      "metadata": {
        "id": "view-in-github",
        "colab_type": "text"
      },
      "source": [
        "<a href=\"https://colab.research.google.com/github/fernando-123445/inteligenciaArtificial/blob/main/Librer%C3%ADaPandas.ipynb\" target=\"_parent\"><img src=\"https://colab.research.google.com/assets/colab-badge.svg\" alt=\"Open In Colab\"/></a>"
      ]
    },
    {
      "cell_type": "code",
      "execution_count": null,
      "metadata": {
        "colab": {
          "base_uri": "https://localhost:8080/"
        },
        "id": "n5tXYpzHyTEX",
        "outputId": "282c64f7-95d6-4517-c169-e91e066ad719"
      },
      "outputs": [
        {
          "output_type": "stream",
          "name": "stdout",
          "text": [
            "2.0.3\n",
            "fernando    100\n",
            "pedro       200\n",
            "lucas       300\n",
            "dtype: int64\n",
            "100\n",
            "Index(['fernando', 'pedro', 'lucas'], dtype='object')\n",
            "True\n"
          ]
        }
      ],
      "source": [
        "import numpy as np\n",
        "import pandas as pd\n",
        "\n",
        "print(pd.__version__)\n",
        "\n",
        "serieData=pd.Series(data=[100,200,300], index=['fernando', 'pedro', 'lucas'])\n",
        "print(serieData)\n",
        "\n",
        "print(serieData['fernando'])\n",
        "\n",
        "print (serieData.index)\n",
        "\n",
        "print('fernando' in serieData)"
      ]
    },
    {
      "cell_type": "code",
      "source": [
        "import pandas as pd\n",
        "\n",
        "myDiccionario = {\n",
        "    'one': pd.Series([100, 200, 300], index=['fernando', 'pedro', 'lucas']),\n",
        "    'two': pd.Series([11, 12, 33], index=['julio', 'pedro', 'lucas'])\n",
        "}\n",
        "\n",
        "# SERIES Y DATAFRAMES\n",
        "df = pd.DataFrame(myDiccionario)\n",
        "print(df)\n",
        "\n",
        "print(df.index)\n",
        "print(df)\n",
        "print('we are here............')\n",
        "print(df.index)\n",
        "print(df.columns)\n",
        "print('/////////////')\n",
        "print (df.loc['fernando'])\n",
        "#print(df['two']['julio'])"
      ],
      "metadata": {
        "colab": {
          "base_uri": "https://localhost:8080/"
        },
        "id": "fV81UhSG1Dq2",
        "outputId": "901ef4b8-167c-45e8-f5ca-8923533a8a6a"
      },
      "execution_count": null,
      "outputs": [
        {
          "output_type": "stream",
          "name": "stdout",
          "text": [
            "            one   two\n",
            "fernando  100.0   NaN\n",
            "julio       NaN  11.0\n",
            "lucas     300.0  33.0\n",
            "pedro     200.0  12.0\n",
            "Index(['fernando', 'julio', 'lucas', 'pedro'], dtype='object')\n",
            "            one   two\n",
            "fernando  100.0   NaN\n",
            "julio       NaN  11.0\n",
            "lucas     300.0  33.0\n",
            "pedro     200.0  12.0\n",
            "we are here............\n",
            "Index(['fernando', 'julio', 'lucas', 'pedro'], dtype='object')\n",
            "Index(['one', 'two'], dtype='object')\n",
            "/////////////\n",
            "one    100.0\n",
            "two      NaN\n",
            "Name: fernando, dtype: float64\n"
          ]
        }
      ]
    },
    {
      "cell_type": "code",
      "source": [
        "import pandas as pd\n",
        "import seaborn as sbr\n",
        "\n",
        "# 2. Listar bases de datos de seaborn\n",
        "print(sbr.get_dataset_names())\n",
        "\n",
        "# 3. Cargar una base de datos de la lista de seaborn\n",
        "bd1 = sbr.load_dataset('tips')\n",
        "print(bd1.head())\n",
        "\n",
        "# 4. Base de datos de archivo online\n",
        "bd2 = pd.read_csv('https://people.sc.fsu.edu/~jburkardt/data/csv/hurricanes.csv')\n",
        "print(bd2.head())\n",
        "\n",
        "# 5. Base de datos de archivo local\n",
        "# Primero, sube tu archivo al entorno de Google Colab y usa la ruta correspondiente\n",
        "file_path = '/content/mi_base_de_datos.csv'\n",
        "bd3 = pd.read_csv(file_path)\n",
        "print(bd3.head())\n",
        "\n",
        "# 6. Información de la base de datos\n",
        "print(bd3.info())\n"
      ],
      "metadata": {
        "id": "ierYrQYu47Ub"
      },
      "execution_count": null,
      "outputs": []
    }
  ]
}