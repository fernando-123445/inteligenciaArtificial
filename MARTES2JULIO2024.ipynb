{
  "nbformat": 4,
  "nbformat_minor": 0,
  "metadata": {
    "colab": {
      "provenance": [],
      "authorship_tag": "ABX9TyMrPDYaombFDZf0Ddu7nzxf",
      "include_colab_link": true
    },
    "kernelspec": {
      "name": "python3",
      "display_name": "Python 3"
    },
    "language_info": {
      "name": "python"
    }
  },
  "cells": [
    {
      "cell_type": "markdown",
      "metadata": {
        "id": "view-in-github",
        "colab_type": "text"
      },
      "source": [
        "<a href=\"https://colab.research.google.com/github/fernando-123445/inteligenciaArtificial/blob/main/MARTES2JULIO2024.ipynb\" target=\"_parent\"><img src=\"https://colab.research.google.com/assets/colab-badge.svg\" alt=\"Open In Colab\"/></a>"
      ]
    },
    {
      "cell_type": "markdown",
      "source": [
        "#"
      ],
      "metadata": {
        "id": "wHuwDD0H9lMN"
      }
    },
    {
      "cell_type": "code",
      "execution_count": null,
      "metadata": {
        "colab": {
          "base_uri": "https://localhost:8080/"
        },
        "id": "jvLAuP-O9hp8",
        "outputId": "b7da2ca7-569b-4211-b4dd-5b63c86ac8f5"
      },
      "outputs": [
        {
          "output_type": "stream",
          "name": "stdout",
          "text": [
            "(3,)\n",
            "<class 'numpy.ndarray'>\n",
            "[11 22 33]\n",
            "22\n",
            "[11 22]\n",
            "[22 33]\n",
            "Array original: [11 22 33]\n",
            "Array actualizado: [ 11 888  33]\n"
          ]
        }
      ],
      "source": [
        "import numpy as np\n",
        "a=np.array([11,22,33])\n",
        "print(a.shape)\n",
        "print(type(a))\n",
        "print(a)\n",
        "print(a[1])\n",
        "\n",
        "print(a[:2])\n",
        "\n",
        "print(a[1:])\n",
        "\n",
        "a=np.array([11, 22, 33])\n",
        "print(\"Array original:\", a)\n",
        "a[1] = 888\n",
        "\n",
        "print(\"Array actualizado:\", a)"
      ]
    },
    {
      "cell_type": "markdown",
      "source": [
        "#Arreglo en dos dimenciones"
      ],
      "metadata": {
        "id": "ZEYGlFm6AU1c"
      }
    },
    {
      "cell_type": "code",
      "source": [
        "from re import sub\n",
        "\n",
        "import numpy as np\n",
        "\n",
        "b=np.array([[1,2,3],[11,22,33], [111,222,333]])\n",
        "print(b.shape)\n",
        "print(type(b))\n",
        "print(b)\n",
        "\n",
        "print(b[1,1])\n",
        "\n",
        "submatriz = b[1:3, 1:3].copy()\n",
        "print(submatriz.shape)\n",
        "print(\"antes\")\n",
        "print(submatriz)\n",
        "\n",
        "submatriz[1]=88\n",
        "print(\"despues\")\n",
        "print(submatriz)\n",
        "print(b)"
      ],
      "metadata": {
        "colab": {
          "base_uri": "https://localhost:8080/"
        },
        "id": "YA6GPRNGAYmj",
        "outputId": "abfbe76c-ebfa-4727-8b26-c9e261847288"
      },
      "execution_count": null,
      "outputs": [
        {
          "output_type": "stream",
          "name": "stdout",
          "text": [
            "(3, 3)\n",
            "<class 'numpy.ndarray'>\n",
            "[[  1   2   3]\n",
            " [ 11  22  33]\n",
            " [111 222 333]]\n",
            "22\n",
            "(2, 2)\n",
            "antes\n",
            "[[ 22  33]\n",
            " [222 333]]\n",
            "despues\n",
            "[[22 33]\n",
            " [88 88]]\n",
            "[[  1   2   3]\n",
            " [ 11  22  33]\n",
            " [111 222 333]]\n"
          ]
        }
      ]
    },
    {
      "cell_type": "code",
      "source": [
        "c=np.zeros((4,4))\n",
        "print(c)\n",
        "print(c.shape)\n",
        "\n",
        "d=np.full((4,4),9)\n",
        "print(d)"
      ],
      "metadata": {
        "colab": {
          "base_uri": "https://localhost:8080/"
        },
        "id": "rhZmrOH0DiCu",
        "outputId": "b0bb6655-1211-4a73-959b-9d94ff851570"
      },
      "execution_count": null,
      "outputs": [
        {
          "output_type": "stream",
          "name": "stdout",
          "text": [
            "[[0. 0. 0. 0.]\n",
            " [0. 0. 0. 0.]\n",
            " [0. 0. 0. 0.]\n",
            " [0. 0. 0. 0.]]\n",
            "(4, 4)\n",
            "[[9 9 9 9]\n",
            " [9 9 9 9]\n",
            " [9 9 9 9]\n",
            " [9 9 9 9]]\n"
          ]
        }
      ]
    },
    {
      "cell_type": "code",
      "source": [
        "e=np.eye(3,3)\n",
        "print(e)\n",
        "f=np.ones((4,5))\n",
        "print(f)"
      ],
      "metadata": {
        "colab": {
          "base_uri": "https://localhost:8080/"
        },
        "id": "yONJfeabEZs2",
        "outputId": "b9c87bb8-af48-4a7d-a8b2-5743600f68a5"
      },
      "execution_count": null,
      "outputs": [
        {
          "output_type": "stream",
          "name": "stdout",
          "text": [
            "[[1. 0. 0.]\n",
            " [0. 1. 0.]\n",
            " [0. 0. 1.]]\n",
            "[[1. 1. 1. 1. 1.]\n",
            " [1. 1. 1. 1. 1.]\n",
            " [1. 1. 1. 1. 1.]\n",
            " [1. 1. 1. 1. 1.]]\n"
          ]
        }
      ]
    },
    {
      "cell_type": "code",
      "source": [
        "g=np.random.random((5,5))\n",
        "print(g)"
      ],
      "metadata": {
        "colab": {
          "base_uri": "https://localhost:8080/"
        },
        "id": "TG0FgJqcFDCE",
        "outputId": "6ff966fa-db23-431b-ca57-af183f6659f7"
      },
      "execution_count": null,
      "outputs": [
        {
          "output_type": "stream",
          "name": "stdout",
          "text": [
            "[[0.96462934 0.18038634 0.497357   0.50650422 0.77797915]\n",
            " [0.50524479 0.16451948 0.78208051 0.87338644 0.68897571]\n",
            " [0.72902723 0.97708853 0.2645004  0.93097331 0.26496315]\n",
            " [0.32213699 0.8659651  0.26002375 0.78910927 0.99429025]\n",
            " [0.99936159 0.21074046 0.15737327 0.55791515 0.13288792]]\n"
          ]
        }
      ]
    },
    {
      "cell_type": "code",
      "source": [
        "tmpl=np.random.randint(1, 20, size=(4,4))\n",
        "print(tmpl)\n",
        "\n",
        "rows=np.array([0,1,2,0])\n",
        "cols=np.arange(4)\n",
        "print(rows)\n",
        "print(cols)\n",
        "\n",
        "rows=np.array([0,1,2,0])\n",
        "cols=np.arange(4)\n",
        "print(rows)\n",
        "print(cols)\n",
        "print(rows.shape)\n",
        "print(cols.shape)\n",
        "\n",
        "tmpl[rows,cols]=100\n",
        "print(tmpl)\n"
      ],
      "metadata": {
        "colab": {
          "base_uri": "https://localhost:8080/"
        },
        "id": "Dddcp9GPFelV",
        "outputId": "b349eaa3-bb6b-4125-ada1-5bd87207d54a"
      },
      "execution_count": null,
      "outputs": [
        {
          "output_type": "stream",
          "name": "stdout",
          "text": [
            "[[ 8  7  3  4]\n",
            " [ 3  4 16 13]\n",
            " [13  4 13 12]\n",
            " [11 11  7  9]]\n",
            "[0 1 2 0]\n",
            "[0 1 2 3]\n",
            "[0 1 2 0]\n",
            "[0 1 2 3]\n",
            "(4,)\n",
            "(4,)\n",
            "[[100   7   3 100]\n",
            " [  3 100  16  13]\n",
            " [ 13   4 100  12]\n",
            " [ 11  11   7   9]]\n"
          ]
        }
      ]
    },
    {
      "cell_type": "code",
      "source": [
        "tmpl=np.random.randint(20, 50, size=(6,6))\n",
        "print(tmpl)\n",
        "\n",
        "filter=[tmpl>45]\n",
        "print(filter)\n",
        "\n",
        "filter=(tmpl>45)\n",
        "print(filter)\n",
        "print(tmpl[filter])"
      ],
      "metadata": {
        "colab": {
          "base_uri": "https://localhost:8080/"
        },
        "id": "itTs4siFKHNp",
        "outputId": "c5ac94c2-cb31-4ad4-a096-4ffc60eaf11f"
      },
      "execution_count": null,
      "outputs": [
        {
          "output_type": "stream",
          "name": "stdout",
          "text": [
            "[[49 26 21 39 22 28]\n",
            " [26 26 48 35 48 32]\n",
            " [42 28 21 29 31 41]\n",
            " [44 46 49 29 29 34]\n",
            " [33 35 46 27 37 48]\n",
            " [39 45 37 20 20 25]]\n",
            "[array([[ True, False, False, False, False, False],\n",
            "       [False, False,  True, False,  True, False],\n",
            "       [False, False, False, False, False, False],\n",
            "       [False,  True,  True, False, False, False],\n",
            "       [False, False,  True, False, False,  True],\n",
            "       [False, False, False, False, False, False]])]\n",
            "[[ True False False False False False]\n",
            " [False False  True False  True False]\n",
            " [False False False False False False]\n",
            " [False  True  True False False False]\n",
            " [False False  True False False  True]\n",
            " [False False False False False False]]\n",
            "[49 48 48 46 49 46 48]\n"
          ]
        }
      ]
    },
    {
      "cell_type": "code",
      "source": [
        "tmpl=np.random.randint(1, 100, size=(10,10))\n",
        "print(tmpl)\n",
        "\n",
        "filter=[tmpl % 2 == 0]\n",
        "print(filter)\n",
        "\n",
        "filter=(tmpl % 2 == 0)\n",
        "print(filter)\n",
        "print(tmpl[filter])"
      ],
      "metadata": {
        "colab": {
          "base_uri": "https://localhost:8080/"
        },
        "id": "OI46dIpfMabm",
        "outputId": "163306bb-8326-4328-a9c7-6e9f690b6844"
      },
      "execution_count": null,
      "outputs": [
        {
          "output_type": "stream",
          "name": "stdout",
          "text": [
            "[[ 1 62  9 48 84 37 29 11 86 50]\n",
            " [ 2 22 70 48 40 92 21 84 97 59]\n",
            " [15 76 96  6 37 96 97 68 31 16]\n",
            " [71 78 45 52 13 17 20  7 19  1]\n",
            " [71 69 65 89 43 29  2 62 64 63]\n",
            " [58 12 70  4 32 96 50 55 20 29]\n",
            " [87 61 84 33 52 76 72 96 48 35]\n",
            " [ 3 33 73 82 90 44 71 65 10 23]\n",
            " [85 27 13 33 56 87 97 33 41  9]\n",
            " [37 25 50 48 63 27 26 82 64  3]]\n",
            "[array([[False,  True, False,  True,  True, False, False, False,  True,\n",
            "         True],\n",
            "       [ True,  True,  True,  True,  True,  True, False,  True, False,\n",
            "        False],\n",
            "       [False,  True,  True,  True, False,  True, False,  True, False,\n",
            "         True],\n",
            "       [False,  True, False,  True, False, False,  True, False, False,\n",
            "        False],\n",
            "       [False, False, False, False, False, False,  True,  True,  True,\n",
            "        False],\n",
            "       [ True,  True,  True,  True,  True,  True,  True, False,  True,\n",
            "        False],\n",
            "       [False, False,  True, False,  True,  True,  True,  True,  True,\n",
            "        False],\n",
            "       [False, False, False,  True,  True,  True, False, False,  True,\n",
            "        False],\n",
            "       [False, False, False, False,  True, False, False, False, False,\n",
            "        False],\n",
            "       [False, False,  True,  True, False, False,  True,  True,  True,\n",
            "        False]])]\n",
            "[[False  True False  True  True False False False  True  True]\n",
            " [ True  True  True  True  True  True False  True False False]\n",
            " [False  True  True  True False  True False  True False  True]\n",
            " [False  True False  True False False  True False False False]\n",
            " [False False False False False False  True  True  True False]\n",
            " [ True  True  True  True  True  True  True False  True False]\n",
            " [False False  True False  True  True  True  True  True False]\n",
            " [False False False  True  True  True False False  True False]\n",
            " [False False False False  True False False False False False]\n",
            " [False False  True  True False False  True  True  True False]]\n",
            "[62 48 84 86 50  2 22 70 48 40 92 84 76 96  6 96 68 16 78 52 20  2 62 64\n",
            " 58 12 70  4 32 96 50 20 84 52 76 72 96 48 82 90 44 10 56 50 48 26 82 64]\n"
          ]
        }
      ]
    },
    {
      "cell_type": "code",
      "source": [
        "tmp3=np.array([1,2,3,4,5],dtype=np.float64)\n",
        "print(tmp3.dtype)"
      ],
      "metadata": {
        "colab": {
          "base_uri": "https://localhost:8080/"
        },
        "id": "QyOkV2hQOcKG",
        "outputId": "be6414a8-cda0-4a6d-8f1a-4506cb757705"
      },
      "execution_count": null,
      "outputs": [
        {
          "output_type": "stream",
          "name": "stdout",
          "text": [
            "float64\n"
          ]
        }
      ]
    },
    {
      "cell_type": "code",
      "source": [
        "j = np.array([[1, 2], [11, 22]])\n",
        "k = np.array([[22, 33], [44, 55]])\n",
        "\n",
        "\n",
        "print(\"Array j:\")\n",
        "print(j)\n",
        "print(\"\\nArray k:\")\n",
        "print(k)\n",
        "\n",
        "\n",
        "suma = j + k\n",
        "print(\"\\nSuma de j y k:\")\n",
        "print(suma)\n",
        "\n",
        "\n",
        "resta = j - k\n",
        "print(\"\\nResta de j y k:\")\n",
        "print(resta)\n",
        "\n",
        "multiplicacion = j * k\n",
        "print(\"\\nMultiplicación de j y k:\")\n",
        "print(multiplicacion)\n",
        "\n",
        "division = j / k\n",
        "print(\"\\nDivisión de j y k:\")\n",
        "print(division)\n",
        "\n",
        "raiz = np.sqrt(j)\n",
        "print(\"\\nRaíz cuadrada de j:\")\n",
        "print(raiz)\n",
        "\n",
        "raiz = np.sqrt(k)\n",
        "print(\"\\nRaíz cuadrada de k:\")\n",
        "print(raiz)"
      ],
      "metadata": {
        "colab": {
          "base_uri": "https://localhost:8080/"
        },
        "id": "Ihy3FPcJPGSP",
        "outputId": "ede74f7c-59d3-4e9e-e0d9-4eb5fbbc6903"
      },
      "execution_count": null,
      "outputs": [
        {
          "output_type": "stream",
          "name": "stdout",
          "text": [
            "Array j:\n",
            "[[ 1  2]\n",
            " [11 22]]\n",
            "\n",
            "Array k:\n",
            "[[22 33]\n",
            " [44 55]]\n",
            "\n",
            "Suma de j y k:\n",
            "[[23 35]\n",
            " [55 77]]\n",
            "\n",
            "Resta de j y k:\n",
            "[[-21 -31]\n",
            " [-33 -33]]\n",
            "\n",
            "Multiplicación de j y k:\n",
            "[[  22   66]\n",
            " [ 484 1210]]\n",
            "\n",
            "División de j y k:\n",
            "[[0.04545455 0.06060606]\n",
            " [0.25       0.4       ]]\n",
            "\n",
            "Raíz cuadrada de j:\n",
            "[[1.         1.41421356]\n",
            " [3.31662479 4.69041576]]\n",
            "\n",
            "Raíz cuadrada de k:\n",
            "[[4.69041576 5.74456265]\n",
            " [6.63324958 7.41619849]]\n"
          ]
        }
      ]
    },
    {
      "cell_type": "code",
      "source": [
        "\n",
        "tmpl = np.random.randint(1, 10, size=(2, 5))\n",
        "print(tmpl)\n",
        "\n",
        "promedio = np.mean(tmpl)\n",
        "\n",
        "print(\"Promedio:\")\n",
        "print(promedio)\n",
        "\n",
        "\n"
      ],
      "metadata": {
        "colab": {
          "base_uri": "https://localhost:8080/"
        },
        "id": "LOhIuuu-Qce1",
        "outputId": "aea5f670-c398-40c6-d055-327336cc9796"
      },
      "execution_count": null,
      "outputs": [
        {
          "output_type": "stream",
          "name": "stdout",
          "text": [
            "[[3 3 4 9 9]\n",
            " [1 9 3 6 6]]\n",
            "Promedio:\n",
            "5.3\n"
          ]
        }
      ]
    },
    {
      "cell_type": "code",
      "source": [
        "print(tmpl.mean(axis=1))\n",
        "print(tmpl.mean(axis=0))"
      ],
      "metadata": {
        "colab": {
          "base_uri": "https://localhost:8080/"
        },
        "id": "nEzcIdHTQ_zO",
        "outputId": "292cb476-e79f-4d22-82ef-9c605e53486e"
      },
      "execution_count": null,
      "outputs": [
        {
          "output_type": "stream",
          "name": "stdout",
          "text": [
            "[5.6 5. ]\n",
            "[2.  6.  3.5 7.5 7.5]\n"
          ]
        }
      ]
    },
    {
      "cell_type": "markdown",
      "source": [
        "#MARTES 2 DE JULIO DEL 2024"
      ],
      "metadata": {
        "id": "zEgDbXlLnLTv"
      }
    },
    {
      "cell_type": "code",
      "source": [
        "import numpy as np\n",
        "a = np.random.randint(1, 10, size=(3, 4))\n",
        "print(a)\n",
        "\n",
        "tmp=np.mean(a)\n",
        "print(tmp)\n",
        "print(a.mean())\n",
        "tmp=a.mean(axis=1)\n",
        "print(tmp)\n",
        "print(a.mean(axis=0))\n",
        "print(tmp)\n",
        "\n",
        "aux=a.sum()\n",
        "print(aux)\n",
        "\n",
        "medianValue=np.median(a,axis=1)\n",
        "print(medianValue)"
      ],
      "metadata": {
        "id": "eFENbVWDnQ6-",
        "outputId": "93801b33-5a6c-4f10-bfc1-eba5513f00b6",
        "colab": {
          "base_uri": "https://localhost:8080/"
        }
      },
      "execution_count": 13,
      "outputs": [
        {
          "output_type": "stream",
          "name": "stdout",
          "text": [
            "[[1 8 5 8]\n",
            " [3 4 9 9]\n",
            " [1 3 4 5]]\n",
            "5.0\n",
            "5.0\n",
            "[5.5  6.25 3.25]\n",
            "[1.66666667 5.         6.         7.33333333]\n",
            "[5.5  6.25 3.25]\n",
            "60\n",
            "[6.5 6.5 3.5]\n"
          ]
        }
      ]
    },
    {
      "cell_type": "markdown",
      "source": [
        "#Ordenar"
      ],
      "metadata": {
        "id": "norPA4PUrNqr"
      }
    },
    {
      "cell_type": "code",
      "source": [
        "b=np.random.rand(10)\n",
        "print(b)\n",
        "print(b.shape)\n",
        "b.sort()\n",
        "print(b)"
      ],
      "metadata": {
        "id": "lp-H3mXErJDI",
        "outputId": "16edb884-6331-4919-e569-4993083dfa22",
        "colab": {
          "base_uri": "https://localhost:8080/"
        }
      },
      "execution_count": 16,
      "outputs": [
        {
          "output_type": "stream",
          "name": "stdout",
          "text": [
            "[0.4986844  0.77977105 0.52941707 0.71195003 0.43130289 0.89878693\n",
            " 0.20499657 0.57413472 0.34407865 0.47939409]\n",
            "(10,)\n",
            "[0.20499657 0.34407865 0.43130289 0.47939409 0.4986844  0.52941707\n",
            " 0.57413472 0.71195003 0.77977105 0.89878693]\n"
          ]
        }
      ]
    },
    {
      "cell_type": "code",
      "source": [
        "c=np.array([1,1,2,3,3,4,4,5,5])\n",
        "print(np.unique(c))"
      ],
      "metadata": {
        "id": "VjaE4c_RrvlT",
        "outputId": "e3237930-13a5-4ae3-e08d-c689d42de657",
        "colab": {
          "base_uri": "https://localhost:8080/"
        }
      },
      "execution_count": 17,
      "outputs": [
        {
          "output_type": "stream",
          "name": "stdout",
          "text": [
            "[1 2 3 4 5]\n"
          ]
        }
      ]
    },
    {
      "cell_type": "code",
      "source": [
        "string1=np.array(['lana', 'foco', 'cama'])\n",
        "string2=np.array(['perro','gato','caballo'])\n",
        "\n",
        "tmp1=np.intersect1d(string1,string2)\n",
        "print(tmp1)\n",
        "tmp2=np.union1d(string1,string2)\n",
        "print(tmp2)\n",
        "tmp3=np.setdiff1d(string1,string2)\n",
        "print(tmp3)\n",
        "tmp4=np.in1d(string2,string1)\n",
        "print(tmp4)"
      ],
      "metadata": {
        "id": "qno3YN9xsOk4",
        "outputId": "f22f0644-0cfd-41f8-dc0e-2e651c5923c8",
        "colab": {
          "base_uri": "https://localhost:8080/"
        }
      },
      "execution_count": 25,
      "outputs": [
        {
          "output_type": "stream",
          "name": "stdout",
          "text": [
            "[]\n",
            "['caballo' 'cama' 'foco' 'gato' 'lana' 'perro']\n",
            "['cama' 'foco' 'lana']\n",
            "[False False False]\n"
          ]
        }
      ]
    },
    {
      "cell_type": "code",
      "source": [
        "#Como hcaer transmision"
      ],
      "metadata": {
        "id": "3zapB7c8uPVH"
      },
      "execution_count": null,
      "outputs": []
    },
    {
      "cell_type": "code",
      "source": [
        "aux=np.zeros((4,3))\n",
        "print(aux)\n",
        "replicate=np.array([1,2,3])\n",
        "aux=aux+replicate\n",
        "print(aux)\n",
        "\n",
        "replicateCol=np.array([[10,10,10]])\n",
        "print(replicateCol.shape)\n",
        "replicateCol=np.reshape(replicateCol,(3,1))\n",
        "\n",
        "aux=np.zeros((3,3))\n",
        "print(replicateCol.shape)\n",
        "aux1=aux+replicateCol\n",
        "print(aux1)\n",
        "\n",
        "vector=np.array([45])\n",
        "matrizxZeros=np.array((5,5))\n",
        "print(matrizxZeros)\n",
        "print(matrizxZeros+vector)\n",
        "\n",
        "\n",
        "\n"
      ],
      "metadata": {
        "id": "uvaCdL6auN9J",
        "outputId": "f7909503-f5d0-43e5-99e1-33577a930d4c",
        "colab": {
          "base_uri": "https://localhost:8080/"
        }
      },
      "execution_count": 41,
      "outputs": [
        {
          "output_type": "stream",
          "name": "stdout",
          "text": [
            "[[0. 0. 0.]\n",
            " [0. 0. 0.]\n",
            " [0. 0. 0.]\n",
            " [0. 0. 0.]]\n",
            "[[1. 2. 3.]\n",
            " [1. 2. 3.]\n",
            " [1. 2. 3.]\n",
            " [1. 2. 3.]]\n",
            "(1, 3)\n",
            "(3, 1)\n",
            "[[10. 10. 10.]\n",
            " [10. 10. 10.]\n",
            " [10. 10. 10.]]\n",
            "[5 5]\n",
            "[50 50]\n"
          ]
        }
      ]
    }
  ]
}