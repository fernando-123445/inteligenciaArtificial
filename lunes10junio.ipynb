{
  "nbformat": 4,
  "nbformat_minor": 0,
  "metadata": {
    "colab": {
      "provenance": [],
      "authorship_tag": "ABX9TyNQfk0G5CKqM7aX2kl8dkU9",
      "include_colab_link": true
    },
    "kernelspec": {
      "name": "python3",
      "display_name": "Python 3"
    },
    "language_info": {
      "name": "python"
    }
  },
  "cells": [
    {
      "cell_type": "markdown",
      "metadata": {
        "id": "view-in-github",
        "colab_type": "text"
      },
      "source": [
        "<a href=\"https://colab.research.google.com/github/fernando-123445/inteligenciaArtificial/blob/main/lunes10junio.ipynb\" target=\"_parent\"><img src=\"https://colab.research.google.com/assets/colab-badge.svg\" alt=\"Open In Colab\"/></a>"
      ]
    },
    {
      "cell_type": "code",
      "execution_count": 2,
      "metadata": {
        "colab": {
          "base_uri": "https://localhost:8080/"
        },
        "id": "9BHBxZbI-EuH",
        "outputId": "15d17ebf-170d-4fbf-ba0d-16e96a4eb85f"
      },
      "outputs": [
        {
          "output_type": "stream",
          "name": "stdout",
          "text": [
            "Python 3.10.12\n"
          ]
        }
      ],
      "source": [
        "!python --version"
      ]
    },
    {
      "cell_type": "code",
      "source": [
        "miNumero= 3\n",
        "miNumeroDecimal=3.6\n",
        "state=True"
      ],
      "metadata": {
        "id": "AM2mzesUAwSu"
      },
      "execution_count": 3,
      "outputs": []
    },
    {
      "cell_type": "code",
      "source": [
        "print (f'valor entero= {miNumero}')\n",
        "print ('valor entero es =' ,miNumero)\n",
        "print (f'valor decimal= {miNumeroDecimal}')\n",
        "print ('valor bool es = ',state)"
      ],
      "metadata": {
        "colab": {
          "base_uri": "https://localhost:8080/"
        },
        "id": "yIhd8gd_DVQU",
        "outputId": "20818c29-838a-43d8-c033-4cd67e40b2c0"
      },
      "execution_count": 8,
      "outputs": [
        {
          "output_type": "stream",
          "name": "stdout",
          "text": [
            "valor entero= 3\n",
            "valor entero es = 3\n",
            "valor decimal= 3.6\n",
            "valor bool es =  True\n"
          ]
        }
      ]
    },
    {
      "cell_type": "code",
      "source": [
        "aux1=10\n",
        "aux2=2\n",
        "\n",
        "print(f'suma de las variables aux10 + aux2 =' ,aux1+aux2)\n"
      ],
      "metadata": {
        "colab": {
          "base_uri": "https://localhost:8080/"
        },
        "id": "li1YKWeREYZK",
        "outputId": "1c1febc6-901a-4da4-e417-5e4984bd79bf"
      },
      "execution_count": 9,
      "outputs": [
        {
          "output_type": "stream",
          "name": "stdout",
          "text": [
            "suma de las variables aux10 + aux2 = 12\n"
          ]
        }
      ]
    },
    {
      "cell_type": "code",
      "source": [
        "aux1=15\n",
        "aux2=5\n",
        "\n",
        "print(f'La resta de las variables aux15 - aux5 =' ,aux1 + aux2)\n"
      ],
      "metadata": {
        "colab": {
          "base_uri": "https://localhost:8080/"
        },
        "id": "2GZ0cuCYE8mK",
        "outputId": "cf83075a-34ff-4c6e-c1af-f12b33a089a5"
      },
      "execution_count": 11,
      "outputs": [
        {
          "output_type": "stream",
          "name": "stdout",
          "text": [
            "La resta de las variables aux15 - aux5 = 20\n"
          ]
        }
      ]
    },
    {
      "cell_type": "code",
      "source": [
        "aux1=15\n",
        "aux2=5\n",
        "\n",
        "print(f'La multiplicacion de las variables aux15 * aux5 =' ,aux1 * aux2)\n"
      ],
      "metadata": {
        "colab": {
          "base_uri": "https://localhost:8080/"
        },
        "id": "AgVBpu63FoSK",
        "outputId": "3d9bc3d3-6a2c-4e72-f5b3-3cb159f654df"
      },
      "execution_count": 14,
      "outputs": [
        {
          "output_type": "stream",
          "name": "stdout",
          "text": [
            "La multiplicacion de las variables aux15 * aux5 = 75\n"
          ]
        }
      ]
    },
    {
      "cell_type": "code",
      "source": [
        "tpm=aux1**aux2\n",
        "print(f'La potencia de las variables aux15 ** aux5 =' ,tpm)"
      ],
      "metadata": {
        "colab": {
          "base_uri": "https://localhost:8080/"
        },
        "id": "As8cnAVNGKDz",
        "outputId": "d114f7dc-2302-4817-eb68-3ca162ee6a3c"
      },
      "execution_count": 16,
      "outputs": [
        {
          "output_type": "stream",
          "name": "stdout",
          "text": [
            "La potencia de las variables aux15 ** aux5 = 759375\n"
          ]
        }
      ]
    },
    {
      "cell_type": "code",
      "source": [
        "var1 ='hola'\n",
        "var2 = '!,Fernando'\n",
        "\n",
        "print(f'La concatenacion de las variables var1 + var2 =' ,var1 + var2)"
      ],
      "metadata": {
        "colab": {
          "base_uri": "https://localhost:8080/"
        },
        "id": "VV5HDrPQFx2i",
        "outputId": "64266a3f-de50-4d70-bf61-c02659dcaf04"
      },
      "execution_count": 15,
      "outputs": [
        {
          "output_type": "stream",
          "name": "stdout",
          "text": [
            "La concatenacion de las variables var1 + var2 = hola!,Fernando\n"
          ]
        }
      ]
    },
    {
      "cell_type": "code",
      "source": [
        "print(3*var1)"
      ],
      "metadata": {
        "colab": {
          "base_uri": "https://localhost:8080/"
        },
        "id": "8p5K5xgCGgvP",
        "outputId": "815a462f-9e3e-43b2-fc34-e3f358737fe5"
      },
      "execution_count": 17,
      "outputs": [
        {
          "output_type": "stream",
          "name": "stdout",
          "text": [
            "holaholahola\n"
          ]
        }
      ]
    },
    {
      "cell_type": "code",
      "source": [
        "numero1 =5\n",
        "numero2 =10.3\n",
        "\n",
        "print('El tipo de numero1 es: ',type(numero1))\n",
        "print('El tipo de numero2 es: ',type(numero2))"
      ],
      "metadata": {
        "colab": {
          "base_uri": "https://localhost:8080/"
        },
        "id": "GMbZesUwGq7v",
        "outputId": "0addd8e8-a2f4-460e-841d-6cf0448d663e"
      },
      "execution_count": 23,
      "outputs": [
        {
          "output_type": "stream",
          "name": "stdout",
          "text": [
            "El tipo de numero1 es:  <class 'int'>\n",
            "El tipo de numero2 es:  <class 'float'>\n"
          ]
        }
      ]
    }
  ]
}