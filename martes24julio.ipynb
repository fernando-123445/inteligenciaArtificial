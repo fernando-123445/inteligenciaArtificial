{
  "nbformat": 4,
  "nbformat_minor": 0,
  "metadata": {
    "colab": {
      "provenance": [],
      "authorship_tag": "ABX9TyMaL+X9wxKMzS3yYGojYcrL",
      "include_colab_link": true
    },
    "kernelspec": {
      "name": "python3",
      "display_name": "Python 3"
    },
    "language_info": {
      "name": "python"
    }
  },
  "cells": [
    {
      "cell_type": "markdown",
      "metadata": {
        "id": "view-in-github",
        "colab_type": "text"
      },
      "source": [
        "<a href=\"https://colab.research.google.com/github/fernando-123445/inteligenciaArtificial/blob/main/martes24julio.ipynb\" target=\"_parent\"><img src=\"https://colab.research.google.com/assets/colab-badge.svg\" alt=\"Open In Colab\"/></a>"
      ]
    },
    {
      "cell_type": "markdown",
      "source": [
        "LUNES 10 DE JULIO EL 2024"
      ],
      "metadata": {
        "id": "x7lMxpkslhvm"
      }
    },
    {
      "cell_type": "code",
      "execution_count": null,
      "metadata": {
        "colab": {
          "base_uri": "https://localhost:8080/"
        },
        "id": "9BHBxZbI-EuH",
        "outputId": "15d17ebf-170d-4fbf-ba0d-16e96a4eb85f"
      },
      "outputs": [
        {
          "output_type": "stream",
          "name": "stdout",
          "text": [
            "Python 3.10.12\n"
          ]
        }
      ],
      "source": [
        "!python --version"
      ]
    },
    {
      "cell_type": "code",
      "source": [
        "miNumero= 3\n",
        "miNumeroDecimal=3.6\n",
        "state=True"
      ],
      "metadata": {
        "id": "AM2mzesUAwSu"
      },
      "execution_count": 11,
      "outputs": []
    },
    {
      "cell_type": "code",
      "source": [
        "print (f'valor entero= {miNumero}')\n",
        "print ('valor entero es =' ,miNumero)\n",
        "print (f'valor decimal= {miNumeroDecimal}')\n",
        "print ('valor bool es = ',state)"
      ],
      "metadata": {
        "colab": {
          "base_uri": "https://localhost:8080/"
        },
        "id": "yIhd8gd_DVQU",
        "outputId": "20818c29-838a-43d8-c033-4cd67e40b2c0"
      },
      "execution_count": null,
      "outputs": [
        {
          "output_type": "stream",
          "name": "stdout",
          "text": [
            "valor entero= 3\n",
            "valor entero es = 3\n",
            "valor decimal= 3.6\n",
            "valor bool es =  True\n"
          ]
        }
      ]
    },
    {
      "cell_type": "code",
      "source": [
        "aux1=10\n",
        "aux2=2\n",
        "\n",
        "print(f'suma de las variables aux10 + aux2 =' ,aux1+aux2)\n"
      ],
      "metadata": {
        "colab": {
          "base_uri": "https://localhost:8080/"
        },
        "id": "li1YKWeREYZK",
        "outputId": "309345af-59c1-48c9-8e65-ded39149feea"
      },
      "execution_count": 4,
      "outputs": [
        {
          "output_type": "stream",
          "name": "stdout",
          "text": [
            "suma de las variables aux10 + aux2 = 12\n"
          ]
        }
      ]
    },
    {
      "cell_type": "code",
      "source": [
        "aux1=15\n",
        "aux2=5\n",
        "\n",
        "print(f'La resta de las variables aux15 - aux5 =' ,aux1 + aux2)\n"
      ],
      "metadata": {
        "colab": {
          "base_uri": "https://localhost:8080/"
        },
        "id": "2GZ0cuCYE8mK",
        "outputId": "48828958-bd11-448a-aad3-0b077013458a"
      },
      "execution_count": 5,
      "outputs": [
        {
          "output_type": "stream",
          "name": "stdout",
          "text": [
            "La resta de las variables aux15 - aux5 = 20\n"
          ]
        }
      ]
    },
    {
      "cell_type": "code",
      "source": [
        "aux1=15\n",
        "aux2=5\n",
        "\n",
        "print(f'La multiplicacion de las variables aux15 * aux5 =' ,aux1 * aux2)\n"
      ],
      "metadata": {
        "colab": {
          "base_uri": "https://localhost:8080/"
        },
        "id": "AgVBpu63FoSK",
        "outputId": "79421c95-d996-4f9c-9978-b9730b6e2f49"
      },
      "execution_count": 6,
      "outputs": [
        {
          "output_type": "stream",
          "name": "stdout",
          "text": [
            "La multiplicacion de las variables aux15 * aux5 = 75\n"
          ]
        }
      ]
    },
    {
      "cell_type": "code",
      "source": [
        "tpm=aux1**aux2\n",
        "print(f'La potencia de las variables aux15 ** aux5 =' ,tpm)"
      ],
      "metadata": {
        "colab": {
          "base_uri": "https://localhost:8080/"
        },
        "id": "As8cnAVNGKDz",
        "outputId": "708bbc77-d5dd-4048-c473-1da4f74bfe41"
      },
      "execution_count": 7,
      "outputs": [
        {
          "output_type": "stream",
          "name": "stdout",
          "text": [
            "La potencia de las variables aux15 ** aux5 = 759375\n"
          ]
        }
      ]
    },
    {
      "cell_type": "code",
      "source": [
        "var1 ='hola'\n",
        "var2 = '!,Fernando'\n",
        "\n",
        "print(f'La concatenacion de las variables var1 + var2 =' ,var1 + var2)"
      ],
      "metadata": {
        "colab": {
          "base_uri": "https://localhost:8080/"
        },
        "id": "VV5HDrPQFx2i",
        "outputId": "1a8e77ea-b52a-42d0-a4ea-a2747a8ed41d"
      },
      "execution_count": 8,
      "outputs": [
        {
          "output_type": "stream",
          "name": "stdout",
          "text": [
            "La concatenacion de las variables var1 + var2 = hola!,Fernando\n"
          ]
        }
      ]
    },
    {
      "cell_type": "code",
      "source": [
        "print(3*var1)"
      ],
      "metadata": {
        "colab": {
          "base_uri": "https://localhost:8080/"
        },
        "id": "8p5K5xgCGgvP",
        "outputId": "4f98aa4a-da14-4fe8-e757-0d037c91c75c"
      },
      "execution_count": 9,
      "outputs": [
        {
          "output_type": "stream",
          "name": "stdout",
          "text": [
            "holaholahola\n"
          ]
        }
      ]
    },
    {
      "cell_type": "code",
      "source": [
        "numero1 =5\n",
        "numero2 =10.3\n",
        "\n",
        "print('El tipo de numero1 es: ',type(numero1))\n",
        "print('El tipo de numero2 es: ',type(numero2))"
      ],
      "metadata": {
        "colab": {
          "base_uri": "https://localhost:8080/"
        },
        "id": "GMbZesUwGq7v",
        "outputId": "a4a4031a-ccd6-455c-ad0c-25bf55dcf604"
      },
      "execution_count": 10,
      "outputs": [
        {
          "output_type": "stream",
          "name": "stdout",
          "text": [
            "El tipo de numero1 es:  <class 'int'>\n",
            "El tipo de numero2 es:  <class 'float'>\n"
          ]
        }
      ]
    },
    {
      "cell_type": "markdown",
      "source": [
        "#MARTES 24 DE JULIO DEL 2024"
      ],
      "metadata": {
        "id": "jK2As2XGlavu"
      }
    },
    {
      "cell_type": "code",
      "source": [
        "tmp=list()\n",
        "tmp.append(2)\n",
        "print(tmp)\n",
        "tmp.append('Fernando')\n",
        "print(tmp)\n",
        "\n",
        "tmp.append(2)\n",
        "print(tmp)\n",
        "tmp.append('Carlos')\n",
        "print(tmp)\n",
        "print(tmp[3])\n",
        "aux=tmp[3]\n",
        "# aux.capitalize()\n",
        "# print(aux)\n",
        "print(aux.upper())\n",
        "\n",
        "tmpl='Hola'\n",
        "print(tmpl.capitalize())\n",
        "\n",
        "aux1=[1,2,3,4,5,6,7,8,9,10]\n",
        "print(aux1)\n",
        "\n",
        "aux1[4]=10\n",
        "print(aux1)\n",
        "\n",
        "print(aux1[-1])\n",
        "\n",
        "print(aux1[3:7])\n",
        "\n",
        "print(aux1[0:5])\n",
        "\n",
        "print(aux1[:5])\n",
        "\n",
        "# aux2=list()\n",
        "# for i in range(100):\n",
        "#   aux2.append(i)\n",
        "# print(aux2[:20])\n",
        "\n",
        "# aux3 = list()\n",
        "# for elem in aux2:\n",
        "#     if elem % 2 == 0:\n",
        "#         aux3.append(elem)\n",
        "# print(aux3)\n",
        "\n",
        "# aux3 = list()\n",
        "# for elem in aux2:\n",
        "#     if elem % 2 == 0:\n",
        "#         aux3.append(elem ** 2)\n",
        "# print(aux3)\n",
        "\n",
        "animales = [\"perro\", \"gato\", \"elefante\", \"tigre\", \"león\", \"jirafa\", \"cebra\", \"canguro\", \"koala\", \"delfín\"]\n",
        "for animal in animales:\n",
        "    print(animal)\n",
        "\n",
        "\n",
        "cuadrados = [x**2 for x in range(1, 21)]\n",
        "print(cuadrados)\n",
        "\n",
        "tmp3 = [ i**2 for i in range(10) if i%2==0 ]\n",
        "print(tmp3)"
      ],
      "metadata": {
        "id": "FlZBZxAVlZKm",
        "outputId": "467c2085-f684-430f-c4a7-3c30adfe9949",
        "colab": {
          "base_uri": "https://localhost:8080/"
        }
      },
      "execution_count": 36,
      "outputs": [
        {
          "output_type": "stream",
          "name": "stdout",
          "text": [
            "[2]\n",
            "[2, 'Fernando']\n",
            "[2, 'Fernando', 2]\n",
            "[2, 'Fernando', 2, 'Carlos']\n",
            "Carlos\n",
            "CARLOS\n",
            "Hola\n",
            "[1, 2, 3, 4, 5, 6, 7, 8, 9, 10]\n",
            "[1, 2, 3, 4, 10, 6, 7, 8, 9, 10]\n",
            "10\n",
            "[4, 10, 6, 7]\n",
            "[1, 2, 3, 4, 10]\n",
            "[1, 2, 3, 4, 10]\n",
            "perro\n",
            "gato\n",
            "elefante\n",
            "tigre\n",
            "león\n",
            "jirafa\n",
            "cebra\n",
            "canguro\n",
            "koala\n",
            "delfín\n",
            "[1, 4, 9, 16, 25, 36, 49, 64, 81, 100, 121, 144, 169, 196, 225, 256, 289, 324, 361, 400]\n",
            "[0, 4, 16, 36, 64]\n"
          ]
        }
      ]
    },
    {
      "cell_type": "markdown",
      "source": [
        "**diccionarios**"
      ],
      "metadata": {
        "id": "XQreKVkuvYAp"
      }
    },
    {
      "cell_type": "code",
      "source": [
        "myDiccionario={'Perro': 'blanco', 'gato': 'grande', 'vaca':'roja', 'gallina':'blanca', 'burro': 'lerdo'}\n",
        "print (myDiccionario)\n",
        "print (myDiccionario['Perro'])\n",
        "print (myDiccionario['gato'])\n",
        "print (myDiccionario['vaca'])\n",
        "print (myDiccionario['gallina'])\n",
        "print (myDiccionario['burro'])\n",
        "\n",
        "exec(\"myDiccionario={'Refrigerador': 'Samsung', 'Microondas': 'LG', 'Lavadora':'Whirlpool', 'Tostadora':'Philips', 'Aspiradora': 'Dyson'}; print(myDiccionario); print(myDiccionario['Refrigerador']); print(myDiccionario['Microondas']); print(myDiccionario['Lavadora']); print(myDiccionario['Tostadora']); print(myDiccionario['Aspiradora'])\")\n",
        "\n",
        "exec(\"myDiccionario1={'Perro': 'blanco', 'gato': 'grande', 'vaca':'roja', 'gallina':'blanca', 'burro': 'lerdo'}; myDiccionario2={'Refrigerador': 'Samsung', 'Microondas': 'LG', 'Lavadora':'Whirlpool', 'Tostadora':'Philips', 'Aspiradora': 'Dyson'}; myDiccionario={**myDiccionario1, **myDiccionario2}; print(myDiccionario); print(myDiccionario['Perro']); print(myDiccionario['gato']); print(myDiccionario['vaca']); print(myDiccionario['gallina']); print(myDiccionario['burro']); print(myDiccionario['Refrigerador']); print(myDiccionario['Microondas']); print(myDiccionario['Lavadora']); print(myDiccionario['Tostadora']); print(myDiccionario['Aspiradora'])\")\n",
        "\n",
        "\n",
        "myList=[1,2,3,4,5,6]\n",
        "myDiccionario={x:x**2 for //....}\n",
        "print(myDiccionario)"
      ],
      "metadata": {
        "id": "KiP6-5ovvWpf",
        "outputId": "23fb352e-0198-4ff1-fb3c-97c71e1482b2",
        "colab": {
          "base_uri": "https://localhost:8080/",
          "height": 106
        }
      },
      "execution_count": 40,
      "outputs": [
        {
          "output_type": "error",
          "ename": "SyntaxError",
          "evalue": "invalid syntax (<ipython-input-40-857a394adb4f>, line 15)",
          "traceback": [
            "\u001b[0;36m  File \u001b[0;32m\"<ipython-input-40-857a394adb4f>\"\u001b[0;36m, line \u001b[0;32m15\u001b[0m\n\u001b[0;31m    myDiccionario={x:x**2 for //....}\u001b[0m\n\u001b[0m                              ^\u001b[0m\n\u001b[0;31mSyntaxError\u001b[0m\u001b[0;31m:\u001b[0m invalid syntax\n"
          ]
        }
      ]
    }
  ]
}